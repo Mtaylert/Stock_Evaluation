{
 "cells": [
  {
   "cell_type": "code",
   "execution_count": 32,
   "metadata": {},
   "outputs": [],
   "source": [
    "\n",
    "import yfinance as yf  \n",
    "import pandas as pd\n",
    "import matplotlib.pyplot as plt\n",
    "from numpy import *\n",
    "from datetime import datetime\n",
    "import seaborn as sns\n",
    "import requests\n",
    "import pandas as pd\n",
    "import arrow\n",
    "import os\n",
    "import numpy as np\n",
    "\n",
    "import datapackage\n",
    "from datetime import timedelta\n",
    "\n",
    "\n",
    "\n",
    "\n",
    "def get_quote_data_by_minute(symbol='SPCE', data_range='1d', data_interval='1m'):\n",
    "    res = requests.get('https://query1.finance.yahoo.com/v8/finance/chart/{symbol}?range={data_range}&interval={data_interval}'.format(**locals()),verify=True)\n",
    "    data = res.json()\n",
    "    body = data['chart']['result'][0]    \n",
    "    #dt = datetime.datetime\n",
    "    dt = pd.Series(map(lambda x: datetime.fromtimestamp(x).datetime.replace(tzinfo=None), body['timestamp']), name='Datetime')\n",
    "    df = pd.DataFrame(body['indicators']['quote'][0], index=dt)\n",
    "    dg = pd.DataFrame(body['timestamp'])    \n",
    "    df = df.loc[:, ('open', 'high', 'low', 'close', 'volume')]\n",
    "    df.dropna(inplace=True)     #removing NaN rows\n",
    "    df.columns = ['OPEN', 'HIGH','LOW','CLOSE','VOLUME']    #Renaming columns in pandas\n",
    "    df=df.reset_index()\n",
    "    return df,body\n",
    "\n"
   ]
  },
  {
   "cell_type": "code",
   "execution_count": 34,
   "metadata": {},
   "outputs": [],
   "source": [
    "_,body = get_quote_data_by_minute()"
   ]
  },
  {
   "cell_type": "code",
   "execution_count": 38,
   "metadata": {},
   "outputs": [],
   "source": [
    "dt = pd.Series(map(lambda x: arrow.get(x).datetime.replace(tzinfo=None), body['timestamp']), name='Datetime')"
   ]
  },
  {
   "cell_type": "code",
   "execution_count": 42,
   "metadata": {},
   "outputs": [
    {
     "data": {
      "text/plain": [
       "datetime.datetime(2020, 7, 7, 9, 30)"
      ]
     },
     "execution_count": 42,
     "metadata": {},
     "output_type": "execute_result"
    }
   ],
   "source": [
    "datetime.fromtimestamp(body['timestamp'][0])"
   ]
  },
  {
   "cell_type": "code",
   "execution_count": null,
   "metadata": {},
   "outputs": [],
   "source": []
  }
 ],
 "metadata": {
  "kernelspec": {
   "display_name": "Python 3",
   "language": "python",
   "name": "python3"
  },
  "language_info": {
   "codemirror_mode": {
    "name": "ipython",
    "version": 3
   },
   "file_extension": ".py",
   "mimetype": "text/x-python",
   "name": "python",
   "nbconvert_exporter": "python",
   "pygments_lexer": "ipython3",
   "version": "3.7.3"
  }
 },
 "nbformat": 4,
 "nbformat_minor": 2
}
