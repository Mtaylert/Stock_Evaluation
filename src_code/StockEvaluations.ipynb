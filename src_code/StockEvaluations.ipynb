{
 "cells": [
  {
   "cell_type": "markdown",
   "metadata": {},
   "source": [
    "#### If yfinance is not already installed, uncomment the code block below, and run"
   ]
  },
  {
   "cell_type": "code",
   "execution_count": null,
   "metadata": {},
   "outputs": [],
   "source": [
    "#!pip install yfinance\n"
   ]
  },
  {
   "cell_type": "code",
   "execution_count": 1,
   "metadata": {},
   "outputs": [],
   "source": [
    "\n",
    "import yfinance as yf  \n",
    "import pandas as pd\n",
    "import matplotlib.pyplot as plt\n",
    "from numpy import *\n",
    "from datetime import datetime\n",
    "import seaborn as sns\n",
    "import helper_functions as hp\n",
    "pd.set_option('display.max_columns', None)\n",
    "pd.set_option('display.max_rows', None)\n",
    "now = datetime.now()\n",
    "now = str(now.year)+\"-\"+str(now.month)+\"-\"+str(now.day)\n",
    "import requests\n",
    "import pandas as pd\n",
    "import datetime\n",
    "import os\n",
    "import numpy as np\n",
    "import datapackage\n",
    "from datetime import timedelta"
   ]
  },
  {
   "cell_type": "markdown",
   "metadata": {},
   "source": [
    "\n",
    "### MACD\n",
    "https://school.stockcharts.com/doku.php?id=technical_indicators:moving_average_convergence_divergence_macd\n",
    "\n",
    "\n",
    "As its name implies, the MACD is all about the convergence and divergence of the two moving averages. Convergence occurs when the moving averages move towards each other. Divergence occurs when the moving averages move away from each other. The shorter moving average (12-day) is faster and responsible for most MACD movements. The longer moving average (26-day) is slower and less reactive to price changes in the underlying security.\n",
    "\n",
    "The MACD line oscillates above and below the zero line, which is also known as the centerline. These crossovers signal that the 12-day EMA has crossed the 26-day EMA. The direction, of course, depends on the direction of the moving average cross. Positive MACD indicates that the 12-day EMA is above the 26-day EMA. Positive values increase as the shorter EMA diverges further from the longer EMA. This means upside momentum is increasing. Negative MACD values indicate that the 12-day EMA is below the 26-day EMA. Negative values increase as the shorter EMA diverges further below the longer EMA. This means downside momentum is increasing."
   ]
  },
  {
   "cell_type": "markdown",
   "metadata": {},
   "source": [
    "### Signal Line\n",
    "\n",
    "Signal Line Crossovers\n",
    "Signal line crossovers are the most common MACD signals. The signal line is a 9-day EMA of the MACD line. As a moving average of the indicator, it trails the MACD and makes it easier to spot MACD turns. A bullish crossover occurs when the MACD turns up and crosses above the signal line. A bearish crossover occurs when the MACD turns down and crosses below the signal line. Crossovers can last a few days or a few weeks, depending on the strength of the move.\n",
    "\n",
    "Due diligence is required before relying on these common signals. Signal line crossovers at positive or negative extremes should be viewed with caution. Even though the MACD does not have upper and lower limits, chartists can estimate historical extremes with a simple visual assessment. It takes a strong move in the underlying security to push momentum to an extreme. Even though the move may continue, momentum is likely to slow and this will usually produce a signal line crossover at the extremities. Volatility in the underlying security can also increase the number of crossovers."
   ]
  },
  {
   "cell_type": "code",
   "execution_count": 2,
   "metadata": {},
   "outputs": [],
   "source": [
    "run = 0\n",
    "if run==1:\n",
    "    start = '2020-01-01'\n",
    "    ticker='YRCW'\n",
    "\n",
    "    SDOW = hp.generate_stock_data(start,now,ticker)\n",
    "\n",
    "    plt.figure(figsize=(15,8))\n",
    "    plt.title('{} Close'.format(ticker))\n",
    "\n",
    "    plt.plot(SDOW['Date'],SDOW['Open'])\n",
    "\n",
    "    plt.plot(SDOW['Date'],SDOW['5Day_Moving_Average_Open'])\n",
    "\n",
    "    plt.xticks(rotation=90)\n",
    "    plt.show()\n",
    "    #----------------------------------------------\n",
    "\n",
    "    plt.figure(figsize=(15,8))\n",
    "    plt.title('{} Trade Volume'.format(ticker))\n",
    "\n",
    "\n",
    "    plt.bar(SDOW['Date'],SDOW['Volume'])\n",
    "\n",
    "    plt.xticks(rotation=90)\n",
    "    plt.show()\n"
   ]
  },
  {
   "cell_type": "code",
   "execution_count": 3,
   "metadata": {
    "scrolled": true
   },
   "outputs": [],
   "source": [
    "NASDAQ=pd.read_csv('../data/NASDAQ_Update.csv')\n",
    "NASDAQ=NASDAQ.iloc[0:10]"
   ]
  },
  {
   "cell_type": "code",
   "execution_count": 8,
   "metadata": {},
   "outputs": [],
   "source": [
    "min_by_min = hp.get_quote_data_by_minute(symbol='AAL',data_range='1d', data_interval='1m')"
   ]
  },
  {
   "cell_type": "code",
   "execution_count": 10,
   "metadata": {},
   "outputs": [
    {
     "data": {
      "text/html": [
       "<div>\n",
       "<style scoped>\n",
       "    .dataframe tbody tr th:only-of-type {\n",
       "        vertical-align: middle;\n",
       "    }\n",
       "\n",
       "    .dataframe tbody tr th {\n",
       "        vertical-align: top;\n",
       "    }\n",
       "\n",
       "    .dataframe thead th {\n",
       "        text-align: right;\n",
       "    }\n",
       "</style>\n",
       "<table border=\"1\" class=\"dataframe\">\n",
       "  <thead>\n",
       "    <tr style=\"text-align: right;\">\n",
       "      <th></th>\n",
       "      <th>0</th>\n",
       "    </tr>\n",
       "  </thead>\n",
       "  <tbody>\n",
       "    <tr>\n",
       "      <th>0</th>\n",
       "      <td>Datetime     OPEN     HIGH      ...</td>\n",
       "    </tr>\n",
       "    <tr>\n",
       "      <th>1</th>\n",
       "      <td>{'meta': {'currency': 'USD', 'symbol': 'AAL', ...</td>\n",
       "    </tr>\n",
       "  </tbody>\n",
       "</table>\n",
       "</div>"
      ],
      "text/plain": [
       "                                                   0\n",
       "0                Datetime     OPEN     HIGH      ...\n",
       "1  {'meta': {'currency': 'USD', 'symbol': 'AAL', ..."
      ]
     },
     "execution_count": 10,
     "metadata": {},
     "output_type": "execute_result"
    }
   ],
   "source": [
    "min_by_min"
   ]
  },
  {
   "cell_type": "code",
   "execution_count": 5,
   "metadata": {
    "scrolled": true
   },
   "outputs": [
    {
     "name": "stdout",
     "output_type": "stream",
     "text": [
      "[*********************100%***********************]  1 of 1 completed\n",
      "[*********************100%***********************]  1 of 1 completed\n",
      "[*********************100%***********************]  1 of 1 completed\n",
      "[*********************100%***********************]  1 of 1 completed\n",
      "[*********************100%***********************]  1 of 1 completed\n",
      "[*********************100%***********************]  1 of 1 completed\n",
      "[*********************100%***********************]  1 of 1 completed\n",
      "\n",
      "1 Failed download:\n",
      "- AAVL: No data found for this date range, symbol may be delisted\n",
      "[*********************100%***********************]  1 of 1 completed\n",
      "[*********************100%***********************]  1 of 1 completed\n",
      "[*********************100%***********************]  1 of 1 completed\n",
      "\n",
      "1 Failed download:\n",
      "- ABAC: No data found for this date range, symbol may be delisted\n"
     ]
    },
    {
     "ename": "ValueError",
     "evalue": "No objects to concatenate",
     "output_type": "error",
     "traceback": [
      "\u001b[0;31m---------------------------------------------------------------------------\u001b[0m",
      "\u001b[0;31mValueError\u001b[0m                                Traceback (most recent call last)",
      "\u001b[0;32m<ipython-input-5-f70cb69ba2f9>\u001b[0m in \u001b[0;36m<module>\u001b[0;34m\u001b[0m\n\u001b[1;32m     11\u001b[0m         \u001b[0;32mpass\u001b[0m\u001b[0;34m\u001b[0m\u001b[0;34m\u001b[0m\u001b[0m\n\u001b[1;32m     12\u001b[0m \u001b[0;34m\u001b[0m\u001b[0m\n\u001b[0;32m---> 13\u001b[0;31m \u001b[0mNASDAQ_df\u001b[0m \u001b[0;34m=\u001b[0m \u001b[0mpd\u001b[0m\u001b[0;34m.\u001b[0m\u001b[0mconcat\u001b[0m\u001b[0;34m(\u001b[0m\u001b[0mall_data\u001b[0m\u001b[0;34m)\u001b[0m\u001b[0;34m\u001b[0m\u001b[0;34m\u001b[0m\u001b[0m\n\u001b[0m",
      "\u001b[0;32m~/anaconda3/lib/python3.7/site-packages/pandas/core/reshape/concat.py\u001b[0m in \u001b[0;36mconcat\u001b[0;34m(objs, axis, join, join_axes, ignore_index, keys, levels, names, verify_integrity, sort, copy)\u001b[0m\n\u001b[1;32m    226\u001b[0m                        \u001b[0mkeys\u001b[0m\u001b[0;34m=\u001b[0m\u001b[0mkeys\u001b[0m\u001b[0;34m,\u001b[0m \u001b[0mlevels\u001b[0m\u001b[0;34m=\u001b[0m\u001b[0mlevels\u001b[0m\u001b[0;34m,\u001b[0m \u001b[0mnames\u001b[0m\u001b[0;34m=\u001b[0m\u001b[0mnames\u001b[0m\u001b[0;34m,\u001b[0m\u001b[0;34m\u001b[0m\u001b[0;34m\u001b[0m\u001b[0m\n\u001b[1;32m    227\u001b[0m                        \u001b[0mverify_integrity\u001b[0m\u001b[0;34m=\u001b[0m\u001b[0mverify_integrity\u001b[0m\u001b[0;34m,\u001b[0m\u001b[0;34m\u001b[0m\u001b[0;34m\u001b[0m\u001b[0m\n\u001b[0;32m--> 228\u001b[0;31m                        copy=copy, sort=sort)\n\u001b[0m\u001b[1;32m    229\u001b[0m     \u001b[0;32mreturn\u001b[0m \u001b[0mop\u001b[0m\u001b[0;34m.\u001b[0m\u001b[0mget_result\u001b[0m\u001b[0;34m(\u001b[0m\u001b[0;34m)\u001b[0m\u001b[0;34m\u001b[0m\u001b[0;34m\u001b[0m\u001b[0m\n\u001b[1;32m    230\u001b[0m \u001b[0;34m\u001b[0m\u001b[0m\n",
      "\u001b[0;32m~/anaconda3/lib/python3.7/site-packages/pandas/core/reshape/concat.py\u001b[0m in \u001b[0;36m__init__\u001b[0;34m(self, objs, axis, join, join_axes, keys, levels, names, ignore_index, verify_integrity, copy, sort)\u001b[0m\n\u001b[1;32m    260\u001b[0m \u001b[0;34m\u001b[0m\u001b[0m\n\u001b[1;32m    261\u001b[0m         \u001b[0;32mif\u001b[0m \u001b[0mlen\u001b[0m\u001b[0;34m(\u001b[0m\u001b[0mobjs\u001b[0m\u001b[0;34m)\u001b[0m \u001b[0;34m==\u001b[0m \u001b[0;36m0\u001b[0m\u001b[0;34m:\u001b[0m\u001b[0;34m\u001b[0m\u001b[0;34m\u001b[0m\u001b[0m\n\u001b[0;32m--> 262\u001b[0;31m             \u001b[0;32mraise\u001b[0m \u001b[0mValueError\u001b[0m\u001b[0;34m(\u001b[0m\u001b[0;34m'No objects to concatenate'\u001b[0m\u001b[0;34m)\u001b[0m\u001b[0;34m\u001b[0m\u001b[0;34m\u001b[0m\u001b[0m\n\u001b[0m\u001b[1;32m    263\u001b[0m \u001b[0;34m\u001b[0m\u001b[0m\n\u001b[1;32m    264\u001b[0m         \u001b[0;32mif\u001b[0m \u001b[0mkeys\u001b[0m \u001b[0;32mis\u001b[0m \u001b[0;32mNone\u001b[0m\u001b[0;34m:\u001b[0m\u001b[0;34m\u001b[0m\u001b[0;34m\u001b[0m\u001b[0m\n",
      "\u001b[0;31mValueError\u001b[0m: No objects to concatenate"
     ]
    }
   ],
   "source": [
    "all_data = []\n",
    "start = '2020-01-01'\n",
    "\n",
    "for sym in NASDAQ['Symbol']:\n",
    "    try:\n",
    "        curr = hp.generate_stock_data(start,now,sym)\n",
    "        all_data.append(curr)\n",
    "    except:\n",
    "        #exception is for delisted tickers\n",
    "        pass\n",
    "\n",
    "NASDAQ_df = pd.concat(all_data)"
   ]
  },
  {
   "cell_type": "code",
   "execution_count": 6,
   "metadata": {},
   "outputs": [
    {
     "name": "stdout",
     "output_type": "stream",
     "text": [
      "[*********************100%***********************]  1 of 1 completed\n"
     ]
    },
    {
     "ename": "AttributeError",
     "evalue": "'tuple' object has no attribute 'columns'",
     "output_type": "error",
     "traceback": [
      "\u001b[0;31m---------------------------------------------------------------------------\u001b[0m",
      "\u001b[0;31mAttributeError\u001b[0m                            Traceback (most recent call last)",
      "\u001b[0;32m<ipython-input-6-b33e58b37109>\u001b[0m in \u001b[0;36m<module>\u001b[0;34m\u001b[0m\n\u001b[0;32m----> 1\u001b[0;31m \u001b[0mcurr\u001b[0m \u001b[0;34m=\u001b[0m \u001b[0mhp\u001b[0m\u001b[0;34m.\u001b[0m\u001b[0mgenerate_stock_data\u001b[0m\u001b[0;34m(\u001b[0m\u001b[0mstart\u001b[0m\u001b[0;34m,\u001b[0m\u001b[0mnow\u001b[0m\u001b[0;34m,\u001b[0m\u001b[0;34m'AAL'\u001b[0m\u001b[0;34m)\u001b[0m\u001b[0;34m\u001b[0m\u001b[0;34m\u001b[0m\u001b[0m\n\u001b[0m",
      "\u001b[0;32m~/Documents/StockEval/src_code/helper_functions.py\u001b[0m in \u001b[0;36mgenerate_stock_data\u001b[0;34m(start_date, end_date, ticker)\u001b[0m\n\u001b[1;32m     44\u001b[0m     \u001b[0mdata\u001b[0m\u001b[0;34m=\u001b[0m\u001b[0mdata\u001b[0m\u001b[0;34m[\u001b[0m\u001b[0;34m[\u001b[0m\u001b[0;34m'Date'\u001b[0m\u001b[0;34m,\u001b[0m\u001b[0;34m'Open'\u001b[0m\u001b[0;34m,\u001b[0m\u001b[0;34m'Close'\u001b[0m\u001b[0;34m,\u001b[0m\u001b[0;34m'Volume'\u001b[0m\u001b[0;34m,\u001b[0m\u001b[0;34m'High'\u001b[0m\u001b[0;34m,\u001b[0m\u001b[0;34m'Low'\u001b[0m\u001b[0;34m]\u001b[0m\u001b[0;34m]\u001b[0m\u001b[0;34m\u001b[0m\u001b[0;34m\u001b[0m\u001b[0m\n\u001b[1;32m     45\u001b[0m     \u001b[0mmin_by_min\u001b[0m \u001b[0;34m=\u001b[0m \u001b[0mget_quote_data_by_minute\u001b[0m\u001b[0;34m(\u001b[0m\u001b[0msymbol\u001b[0m\u001b[0;34m=\u001b[0m\u001b[0mticker\u001b[0m\u001b[0;34m,\u001b[0m\u001b[0mdata_range\u001b[0m\u001b[0;34m=\u001b[0m\u001b[0;34m'1d'\u001b[0m\u001b[0;34m,\u001b[0m \u001b[0mdata_interval\u001b[0m\u001b[0;34m=\u001b[0m\u001b[0;34m'1m'\u001b[0m\u001b[0;34m)\u001b[0m\u001b[0;34m\u001b[0m\u001b[0;34m\u001b[0m\u001b[0m\n\u001b[0;32m---> 46\u001b[0;31m     \u001b[0mmin_by_min\u001b[0m\u001b[0;34m.\u001b[0m\u001b[0mcolumns\u001b[0m\u001b[0;34m=\u001b[0m\u001b[0;34m[\u001b[0m\u001b[0;34m'Date'\u001b[0m\u001b[0;34m,\u001b[0m\u001b[0;34m'Open'\u001b[0m\u001b[0;34m,\u001b[0m\u001b[0;34m'High'\u001b[0m\u001b[0;34m,\u001b[0m\u001b[0;34m'Low'\u001b[0m\u001b[0;34m,\u001b[0m\u001b[0;34m'Close'\u001b[0m\u001b[0;34m,\u001b[0m\u001b[0;34m'Volume'\u001b[0m\u001b[0;34m]\u001b[0m\u001b[0;34m\u001b[0m\u001b[0;34m\u001b[0m\u001b[0m\n\u001b[0m\u001b[1;32m     47\u001b[0m     \u001b[0mupdate\u001b[0m \u001b[0;34m=\u001b[0m \u001b[0mmin_by_min\u001b[0m\u001b[0;34m.\u001b[0m\u001b[0mloc\u001b[0m\u001b[0;34m[\u001b[0m\u001b[0mmin_by_min\u001b[0m\u001b[0;34m.\u001b[0m\u001b[0mshape\u001b[0m\u001b[0;34m[\u001b[0m\u001b[0;36m0\u001b[0m\u001b[0;34m]\u001b[0m\u001b[0;34m-\u001b[0m\u001b[0;36m1\u001b[0m\u001b[0;34m]\u001b[0m\u001b[0;34m\u001b[0m\u001b[0;34m\u001b[0m\u001b[0m\n\u001b[1;32m     48\u001b[0m     \u001b[0mdata\u001b[0m\u001b[0;34m=\u001b[0m\u001b[0mdata\u001b[0m\u001b[0;34m.\u001b[0m\u001b[0mappend\u001b[0m\u001b[0;34m(\u001b[0m\u001b[0mupdate\u001b[0m\u001b[0;34m)\u001b[0m\u001b[0;34m\u001b[0m\u001b[0;34m\u001b[0m\u001b[0m\n",
      "\u001b[0;31mAttributeError\u001b[0m: 'tuple' object has no attribute 'columns'"
     ]
    }
   ],
   "source": [
    "curr = hp.generate_stock_data(start,now,'AAL')"
   ]
  },
  {
   "cell_type": "code",
   "execution_count": null,
   "metadata": {},
   "outputs": [],
   "source": [
    "CurrNas_up,TopShifts_up = hp.upward_trending_stocks(NASDAQ_df,now,10,upward=True,lookback=6)\n"
   ]
  },
  {
   "cell_type": "code",
   "execution_count": null,
   "metadata": {
    "scrolled": true
   },
   "outputs": [],
   "source": [
    "CurrNas_down,TopShifts_down = hp.upward_trending_stocks(NASDAQ_df,now,10,upward=False,lookback=6)\n"
   ]
  },
  {
   "cell_type": "code",
   "execution_count": null,
   "metadata": {},
   "outputs": [],
   "source": [
    "TopShifts_down.to_csv('..data/downward_trend_{}_.csv'.format(now),index=False)\n",
    "TopShifts_up.to_csv('../data/upward_trend_{}_.csv'.format(now),index=False)"
   ]
  },
  {
   "cell_type": "code",
   "execution_count": null,
   "metadata": {
    "scrolled": false
   },
   "outputs": [],
   "source": [
    "\n",
    "ticker='TCX'\n",
    "start = '2020-01-01'\n",
    "SDOW = generate_stock_data(start,now,ticker)\n",
    "\n",
    "\n",
    "\n",
    "\n",
    "plt.figure(figsize=(15,10))\n",
    "plt.plot(SDOW['Date'],SDOW['12Day_Moving_Average_Close'],label='Short MA',color='k')\n",
    "plt.plot(SDOW['Date'],SDOW['26Day_Moving_Average_Close'],label='Long MA',color='r')\n",
    "\n",
    "\n",
    "for values in range(len(SDOW)):\n",
    "    if values!=0:\n",
    "        if SDOW['MACD'].iloc[values]<0:\n",
    "            if SDOW['MACD'].iloc[values-1]>0:\n",
    "                plt.scatter(SDOW['Date'].iloc[values-1],SDOW['12Day_Moving_Average_Close'].iloc[values-1],marker='*',\n",
    "                       color='red',s=150)\n",
    "                \n",
    "    if SDOW['MACD'].iloc[values]>=0:\n",
    "        if SDOW['MACD'].iloc[values-1]<0:\n",
    "            plt.scatter(SDOW['Date'].iloc[values],SDOW['12Day_Moving_Average_Close'].iloc[values],marker='*',\n",
    "                       color='green',s=150)\n",
    "            \n",
    "            \n",
    "plt.title('MA Analysis {}'.format(ticker))\n",
    "\n",
    "plt.legend()\n",
    "plt.show()"
   ]
  },
  {
   "cell_type": "markdown",
   "metadata": {},
   "source": [
    "#### red star siginal a downward trend & green stars signal an upward trend"
   ]
  },
  {
   "cell_type": "code",
   "execution_count": null,
   "metadata": {},
   "outputs": [],
   "source": [
    "plt.figure(figsize=(15,10))\n",
    "plt.title('MACD Analysis {}'.format(ticker))\n",
    "plt.plot(SDOW['Date'],SDOW['MACD'],label='MACD')\n",
    "plt.plot(SDOW['Date'],SDOW['signal'],label='Signal')\n",
    "plt.hlines(0,start,now,'r')\n",
    "plt.bar(SDOW['Date'],SDOW['hist'])\n",
    "plt.legend()\n",
    "plt.xticks(rotation=90)\n",
    "plt.show()"
   ]
  },
  {
   "cell_type": "code",
   "execution_count": null,
   "metadata": {
    "scrolled": true
   },
   "outputs": [],
   "source": [
    "min_by_min = get_quote_data_by_minute(symbol=\"WORK\",data_range='1d', data_interval='1m')\n",
    "min_by_min.tail(20)"
   ]
  },
  {
   "cell_type": "code",
   "execution_count": null,
   "metadata": {},
   "outputs": [],
   "source": []
  },
  {
   "cell_type": "code",
   "execution_count": null,
   "metadata": {},
   "outputs": [],
   "source": [
    "# For data manipulation\n",
    "import pandas as pd\n",
    "\n",
    "# To extract fundamental data\n",
    "from bs4 import BeautifulSoup as bs\n",
    "import requests"
   ]
  },
  {
   "cell_type": "code",
   "execution_count": null,
   "metadata": {},
   "outputs": [],
   "source": [
    "TopShifts_up.head()"
   ]
  },
  {
   "cell_type": "code",
   "execution_count": null,
   "metadata": {},
   "outputs": [],
   "source": [
    "import requests, re, json, pprint\n",
    "import numpy as np\n",
    "p = re.compile(r'root\\.App\\.main = (.*);')\n",
    "tickers =list(np.unique(TopShifts_up['ticker']))\n",
    "results = {}\n",
    "\n",
    "with requests.Session() as s:\n",
    "\n",
    "    for ticker in tickers:\n",
    "        try:\n",
    "            r = s.get('https://finance.yahoo.com/quote/{}/key-statistics?p={}'.format(ticker,ticker))\n",
    "            data = json.loads(p.findall(r.text)[0])\n",
    "            key_stats = data['context']['dispatcher']['stores']['QuoteSummaryStore']\n",
    "            results.setdefault(ticker,[])\n",
    "            results[ticker]\n",
    "\n",
    "            try:\n",
    "                res = {'EnterPrise Value' :key_stats['defaultKeyStatistics']['enterpriseValue']['fmt']}\n",
    "                results[ticker].append(res)\n",
    "            except:\n",
    "                results[ticker].append({'EnterPrise Value':np.nan})\n",
    "\n",
    "            try:\n",
    "                res = {'Trailing P/E' : key_stats['summaryDetail']['trailingPE']['fmt']}\n",
    "                results[ticker].append(res)\n",
    "            except:\n",
    "                results[ticker].append({'Trailing P/E':np.nan})\n",
    "\n",
    "            try:\n",
    "                res = {'Forward P/E' : key_stats['summaryDetail']['forwardPE']['fmt']}\n",
    "                results[ticker].append(res)\n",
    "            except:\n",
    "                results[ticker].append({'Forward P/E':np.nan})\n",
    "\n",
    "\n",
    "            try:\n",
    "                res = {'PEG Ratio (5 yr expected)' : key_stats['defaultKeyStatistics']['pegRatio']['fmt']}\n",
    "                results[ticker].append(res)\n",
    "            except:\n",
    "                results[ticker].append({'PEG Ratio (5 yr expected)':np.nan})\n",
    "\n",
    "            try:\n",
    "                res = {'Return on Assets' : key_stats['financialData']['returnOnAssets']['fmt']}\n",
    "                results[ticker].append(res)\n",
    "            except:\n",
    "                results[ticker].append({\"Return on Assets\":np.nan})\n",
    "\n",
    "            try:\n",
    "                res = {'Quarterly Revenue Growth' : key_stats['financialData']['revenueGrowth']['fmt']}\n",
    "                results[ticker].append(res)\n",
    "            except:\n",
    "                results[ticker].append({\"Quarterly Revenue Growth\":np.nan})\n",
    "\n",
    "            res = {'Company' : ticker}\n",
    "            results[ticker].append(res)    \n",
    "        except:\n",
    "            pass\n",
    "\n"
   ]
  },
  {
   "cell_type": "code",
   "execution_count": null,
   "metadata": {
    "scrolled": false
   },
   "outputs": [],
   "source": [
    "import requests, re, json, pprint\n",
    "import numpy as np\n",
    "p = re.compile(r'root\\.App\\.main = (.*);')\n",
    "tickers =list(np.unique(TopShifts_up['ticker']))\n",
    "q_results = {}\n",
    "main_keys = ['trailingPsRatio', \n",
    "             'quarterlyPbRatio', \n",
    "             'quarterlyForwardPeRatio',\n",
    "             'quarterlyMarketCap', \n",
    "             'quarterlyPeRatio', \n",
    "             'trailingMarketCap',\n",
    "             'trailingEnterprisesValueEBITDARatio',\n",
    "             'quarterlyEnterprisesValueEBITDARatio', \n",
    "             'trailingForwardPeRatio', \n",
    "             'trailingEnterpriseValue',\n",
    "             'trailingPeRatio', \n",
    "             'quarterlyEnterprisesValueRevenueRatio', \n",
    "             'quarterlyPsRatio', \n",
    "             'trailingEnterprisesValueRevenueRatio', \n",
    "             'quarterlyPegRatio', \n",
    "             'trailingPbRatio',\n",
    "             'quarterlyEnterpriseValue', \n",
    "             'trailingPegRatio', \n",
    "             'timestamp']\n",
    "\n",
    "with requests.Session() as s:\n",
    "\n",
    "    for ticker in tickers:\n",
    "        try:\n",
    "            r = s.get('https://finance.yahoo.com/quote/{}/key-statistics?p={}'.format(ticker,ticker))\n",
    "            data = json.loads(p.findall(r.text)[0])\n",
    "\n",
    "            key_stats = data['context']['dispatcher']['stores']['QuoteTimeSeriesStore']\n",
    "\n",
    "            q_results.setdefault(ticker,[])\n",
    "            for mk in main_keys:\n",
    "                try:\n",
    "                    res = {mk: key_stats['timeSeries'][mk][1]['reportedValue']['raw']}\n",
    "\n",
    "                    q_results[ticker].append(res)\n",
    "                except:\n",
    "                    q_results[ticker].append({mk:np.nan})\n",
    "\n",
    "            res = {'Company' : ticker}\n",
    "            q_results[ticker].append(res)  \n",
    "        except:\n",
    "            pass\n",
    "            \n",
    "                \n",
    "                \n",
    "                \n",
    "        "
   ]
  },
  {
   "cell_type": "code",
   "execution_count": null,
   "metadata": {
    "scrolled": true
   },
   "outputs": [],
   "source": [
    "finstats = {}\n",
    "\n",
    "for k in results.keys():\n",
    "    c = results[k]\n",
    "    for ix in range(len(c)):\n",
    "        for key,val in  c[ix].items():\n",
    "            finstats.setdefault(key,[])\n",
    "            finstats[key].append(val)\n",
    "    \n",
    "            "
   ]
  },
  {
   "cell_type": "code",
   "execution_count": null,
   "metadata": {},
   "outputs": [],
   "source": [
    "fstat = pd.DataFrame(finstats)"
   ]
  },
  {
   "cell_type": "code",
   "execution_count": null,
   "metadata": {},
   "outputs": [],
   "source": [
    "finstats_q = {}\n",
    "\n",
    "for k in q_results.keys():\n",
    "    c = q_results[k]\n",
    "    for ix in range(len(c)):\n",
    "        for key,val in  c[ix].items():\n",
    "            finstats_q.setdefault(key,[])\n",
    "            finstats_q[key].append(val)\n",
    "    "
   ]
  },
  {
   "cell_type": "code",
   "execution_count": null,
   "metadata": {
    "scrolled": true
   },
   "outputs": [],
   "source": [
    "fstatsq = pd.DataFrame(finstats_q)"
   ]
  },
  {
   "cell_type": "code",
   "execution_count": null,
   "metadata": {},
   "outputs": [],
   "source": [
    "full_df = pd.merge(fstat,fstatsq,on='Company')\n",
    "full_df_transpose=full_df.T\n",
    "full_df_transpose.columns = list(full_df['Company'])"
   ]
  },
  {
   "cell_type": "code",
   "execution_count": null,
   "metadata": {
    "scrolled": true
   },
   "outputs": [],
   "source": [
    "full_df_transpose=full_df_transpose.T\n",
    "full"
   ]
  },
  {
   "cell_type": "code",
   "execution_count": null,
   "metadata": {},
   "outputs": [],
   "source": [
    "test = pd.merge(TopShifts_up,full_df_transpose,left_on='ticker',right_index=True)"
   ]
  },
  {
   "cell_type": "code",
   "execution_count": null,
   "metadata": {
    "scrolled": false
   },
   "outputs": [],
   "source": [
    "add_meta = test[['Date', 'ticker', 'MACD', 'signal', 'Close', 'Upward', 'Day',\n",
    "       'EnterPrise Value', 'Trailing P/E', 'Forward P/E','Return on Assets']]"
   ]
  },
  {
   "cell_type": "code",
   "execution_count": null,
   "metadata": {
    "scrolled": false
   },
   "outputs": [],
   "source": [
    "add_meta.to_csv('/Users/sheenmccullough/Documents/StockEval/data/withMeta.csv',index=False)"
   ]
  },
  {
   "cell_type": "code",
   "execution_count": null,
   "metadata": {
    "scrolled": false
   },
   "outputs": [],
   "source": [
    "add_meta"
   ]
  },
  {
   "cell_type": "code",
   "execution_count": null,
   "metadata": {},
   "outputs": [],
   "source": []
  }
 ],
 "metadata": {
  "kernelspec": {
   "display_name": "Python 3",
   "language": "python",
   "name": "python3"
  },
  "language_info": {
   "codemirror_mode": {
    "name": "ipython",
    "version": 3
   },
   "file_extension": ".py",
   "mimetype": "text/x-python",
   "name": "python",
   "nbconvert_exporter": "python",
   "pygments_lexer": "ipython3",
   "version": "3.7.3"
  }
 },
 "nbformat": 4,
 "nbformat_minor": 2
}
