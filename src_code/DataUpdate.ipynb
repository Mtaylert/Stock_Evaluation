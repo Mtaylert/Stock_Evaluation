{
 "cells": [
  {
   "cell_type": "code",
   "execution_count": null,
   "metadata": {},
   "outputs": [],
   "source": [
    "!pip install --upgrade pandas"
   ]
  },
  {
   "cell_type": "code",
   "execution_count": 1,
   "metadata": {},
   "outputs": [
    {
     "name": "stdout",
     "output_type": "stream",
     "text": [
      "1.0.5\n"
     ]
    }
   ],
   "source": [
    "import pandas as pd\n",
    "print(pd.__version__)"
   ]
  },
  {
   "cell_type": "code",
   "execution_count": 9,
   "metadata": {},
   "outputs": [
    {
     "name": "stdout",
     "output_type": "stream",
     "text": [
      "········\n"
     ]
    }
   ],
   "source": [
    "from sqlalchemy import create_engine\n",
    "import getpass \n",
    "import pandas as pd\n",
    "try:\n",
    "    from collections import OrderedDict\n",
    "except ImportError:\n",
    "    from ordereddict import OrderedDict\n",
    "\n",
    "\n",
    "db_string = \"postgres://MONEYDB:{}@moneydb.cpbpjwbxydzi.us-east-2.rds.amazonaws.com:5432/postgres\".format(getpass.getpass())\n",
    "\n",
    "db = create_engine(db_string)"
   ]
  },
  {
   "cell_type": "code",
   "execution_count": 14,
   "metadata": {},
   "outputs": [],
   "source": [
    "import psycopg2\n",
    "conn = psycopg2.connect(\n",
    "    database=\"postgres\",\n",
    "    user=\"MONEYDB\",\n",
    "    password=\"Richmond1\",\n",
    "    host=\"moneydb.cpbpjwbxydzi.us-east-2.rds.amazonaws.com\",\n",
    "    port='5432'\n",
    ")\n",
    "\n",
    "\n",
    "fr = pd.read_sql_query('select * from public.\"Upward_Trends\"',con=conn)"
   ]
  },
  {
   "cell_type": "code",
   "execution_count": 15,
   "metadata": {},
   "outputs": [
    {
     "ename": "ImportError",
     "evalue": "cannot import name 'OrderedDict' from 'pandas.compat' (/Users/sheenmccullough/anaconda3/lib/python3.7/site-packages/pandas/compat/__init__.py)",
     "output_type": "error",
     "traceback": [
      "\u001b[0;31m---------------------------------------------------------------------------\u001b[0m",
      "\u001b[0;31mImportError\u001b[0m                               Traceback (most recent call last)",
      "\u001b[0;32m~/anaconda3/lib/python3.7/site-packages/IPython/core/formatters.py\u001b[0m in \u001b[0;36m__call__\u001b[0;34m(self, obj)\u001b[0m\n\u001b[1;32m    343\u001b[0m             \u001b[0mmethod\u001b[0m \u001b[0;34m=\u001b[0m \u001b[0mget_real_method\u001b[0m\u001b[0;34m(\u001b[0m\u001b[0mobj\u001b[0m\u001b[0;34m,\u001b[0m \u001b[0mself\u001b[0m\u001b[0;34m.\u001b[0m\u001b[0mprint_method\u001b[0m\u001b[0;34m)\u001b[0m\u001b[0;34m\u001b[0m\u001b[0;34m\u001b[0m\u001b[0m\n\u001b[1;32m    344\u001b[0m             \u001b[0;32mif\u001b[0m \u001b[0mmethod\u001b[0m \u001b[0;32mis\u001b[0m \u001b[0;32mnot\u001b[0m \u001b[0;32mNone\u001b[0m\u001b[0;34m:\u001b[0m\u001b[0;34m\u001b[0m\u001b[0;34m\u001b[0m\u001b[0m\n\u001b[0;32m--> 345\u001b[0;31m                 \u001b[0;32mreturn\u001b[0m \u001b[0mmethod\u001b[0m\u001b[0;34m(\u001b[0m\u001b[0;34m)\u001b[0m\u001b[0;34m\u001b[0m\u001b[0;34m\u001b[0m\u001b[0m\n\u001b[0m\u001b[1;32m    346\u001b[0m             \u001b[0;32mreturn\u001b[0m \u001b[0;32mNone\u001b[0m\u001b[0;34m\u001b[0m\u001b[0;34m\u001b[0m\u001b[0m\n\u001b[1;32m    347\u001b[0m         \u001b[0;32melse\u001b[0m\u001b[0;34m:\u001b[0m\u001b[0;34m\u001b[0m\u001b[0;34m\u001b[0m\u001b[0m\n",
      "\u001b[0;32m~/anaconda3/lib/python3.7/site-packages/pandas/core/frame.py\u001b[0m in \u001b[0;36m_repr_html_\u001b[0;34m(self)\u001b[0m\n\u001b[1;32m    732\u001b[0m         \u001b[0mProperty\u001b[0m \u001b[0mreturning\u001b[0m \u001b[0ma\u001b[0m \u001b[0mStyler\u001b[0m \u001b[0mobject\u001b[0m \u001b[0mcontaining\u001b[0m \u001b[0mmethods\u001b[0m \u001b[0;32mfor\u001b[0m\u001b[0;34m\u001b[0m\u001b[0;34m\u001b[0m\u001b[0m\n\u001b[1;32m    733\u001b[0m         \u001b[0mbuilding\u001b[0m \u001b[0ma\u001b[0m \u001b[0mstyled\u001b[0m \u001b[0mHTML\u001b[0m \u001b[0mrepresentation\u001b[0m \u001b[0mfo\u001b[0m \u001b[0mthe\u001b[0m \u001b[0mDataFrame\u001b[0m\u001b[0;34m.\u001b[0m\u001b[0;34m\u001b[0m\u001b[0;34m\u001b[0m\u001b[0m\n\u001b[0;32m--> 734\u001b[0;31m \u001b[0;34m\u001b[0m\u001b[0m\n\u001b[0m\u001b[1;32m    735\u001b[0m         \u001b[0mSee\u001b[0m \u001b[0mAlso\u001b[0m\u001b[0;34m\u001b[0m\u001b[0;34m\u001b[0m\u001b[0m\n\u001b[1;32m    736\u001b[0m         \u001b[0;34m-\u001b[0m\u001b[0;34m-\u001b[0m\u001b[0;34m-\u001b[0m\u001b[0;34m-\u001b[0m\u001b[0;34m-\u001b[0m\u001b[0;34m-\u001b[0m\u001b[0;34m-\u001b[0m\u001b[0;34m-\u001b[0m\u001b[0;34m\u001b[0m\u001b[0;34m\u001b[0m\u001b[0m\n",
      "\u001b[0;32m~/anaconda3/lib/python3.7/site-packages/pandas/io/formats/format.py\u001b[0m in \u001b[0;36mto_html\u001b[0;34m(self, buf, encoding, classes, notebook, border)\u001b[0m\n\u001b[1;32m    977\u001b[0m                     \u001b[0;31m# False specifically, so that the default is\u001b[0m\u001b[0;34m\u001b[0m\u001b[0;34m\u001b[0m\u001b[0;34m\u001b[0m\u001b[0m\n\u001b[1;32m    978\u001b[0m                     \u001b[0;31m# to include a space if we get here.\u001b[0m\u001b[0;34m\u001b[0m\u001b[0;34m\u001b[0m\u001b[0;34m\u001b[0m\u001b[0m\n\u001b[0;32m--> 979\u001b[0;31m                     \u001b[0mtpl\u001b[0m \u001b[0;34m=\u001b[0m \u001b[0;34mu'{v}'\u001b[0m\u001b[0;34m\u001b[0m\u001b[0;34m\u001b[0m\u001b[0m\n\u001b[0m\u001b[1;32m    980\u001b[0m                 \u001b[0;32melse\u001b[0m\u001b[0;34m:\u001b[0m\u001b[0;34m\u001b[0m\u001b[0;34m\u001b[0m\u001b[0m\n\u001b[1;32m    981\u001b[0m                     \u001b[0mtpl\u001b[0m \u001b[0;34m=\u001b[0m \u001b[0;34mu' {v}'\u001b[0m\u001b[0;34m\u001b[0m\u001b[0;34m\u001b[0m\u001b[0m\n",
      "\u001b[0;32m~/anaconda3/lib/python3.7/site-packages/pandas/io/formats/html.py\u001b[0m in \u001b[0;36m<module>\u001b[0;34m\u001b[0m\n\u001b[1;32m      8\u001b[0m \u001b[0;32mfrom\u001b[0m \u001b[0mtextwrap\u001b[0m \u001b[0;32mimport\u001b[0m \u001b[0mdedent\u001b[0m\u001b[0;34m\u001b[0m\u001b[0;34m\u001b[0m\u001b[0m\n\u001b[1;32m      9\u001b[0m \u001b[0;34m\u001b[0m\u001b[0m\n\u001b[0;32m---> 10\u001b[0;31m \u001b[0;32mfrom\u001b[0m \u001b[0mpandas\u001b[0m\u001b[0;34m.\u001b[0m\u001b[0mcompat\u001b[0m \u001b[0;32mimport\u001b[0m \u001b[0mOrderedDict\u001b[0m\u001b[0;34m,\u001b[0m \u001b[0mlzip\u001b[0m\u001b[0;34m,\u001b[0m \u001b[0mmap\u001b[0m\u001b[0;34m,\u001b[0m \u001b[0mrange\u001b[0m\u001b[0;34m,\u001b[0m \u001b[0mu\u001b[0m\u001b[0;34m,\u001b[0m \u001b[0munichr\u001b[0m\u001b[0;34m,\u001b[0m \u001b[0mzip\u001b[0m\u001b[0;34m\u001b[0m\u001b[0;34m\u001b[0m\u001b[0m\n\u001b[0m\u001b[1;32m     11\u001b[0m \u001b[0;34m\u001b[0m\u001b[0m\n\u001b[1;32m     12\u001b[0m \u001b[0;32mfrom\u001b[0m \u001b[0mpandas\u001b[0m\u001b[0;34m.\u001b[0m\u001b[0mcore\u001b[0m\u001b[0;34m.\u001b[0m\u001b[0mdtypes\u001b[0m\u001b[0;34m.\u001b[0m\u001b[0mgeneric\u001b[0m \u001b[0;32mimport\u001b[0m \u001b[0mABCMultiIndex\u001b[0m\u001b[0;34m\u001b[0m\u001b[0;34m\u001b[0m\u001b[0m\n",
      "\u001b[0;31mImportError\u001b[0m: cannot import name 'OrderedDict' from 'pandas.compat' (/Users/sheenmccullough/anaconda3/lib/python3.7/site-packages/pandas/compat/__init__.py)"
     ]
    },
    {
     "data": {
      "text/plain": [
       "    index        Date ticker      MACD        signal       Close  Upward  \\\n",
       "0       0  2020-07-08   ACUR  0.000033  3.949424e-04    0.350000       1   \n",
       "1       1  2020-07-08   ANTH  0.000197 -5.378571e-04    0.027500       1   \n",
       "2       2  2020-07-08   CHTR  0.197379 -5.152588e-02  526.349976       1   \n",
       "3       3  2020-07-08  CRESY  0.003594 -5.265345e-02    3.610000       1   \n",
       "4       4  2020-07-08   HYZD  0.000097  2.367349e-02   20.420000       1   \n",
       "5       5  2020-07-08   KINS  0.034900 -2.679291e-02    5.260000       1   \n",
       "6       6  2020-07-08   OLED  0.322568  7.828394e-02  157.970001       1   \n",
       "7       7  2020-07-08   OSUR  0.095191 -3.755221e-01   13.580000       1   \n",
       "8       8  2020-07-08   PCOM  0.049506  5.081830e-02   10.370000       1   \n",
       "9       9  2020-07-08   PFPT  0.108570 -8.713375e-01  116.199997       1   \n",
       "10     10  2020-07-08   TRUE  0.013081  3.323915e-03    2.935000       1   \n",
       "11     11  2020-07-08  WHLRP  0.026884 -1.323682e-03    7.800000       1   \n",
       "12     12  2020-07-08   ADTN  0.012017  8.750890e-03   11.010000       1   \n",
       "13     13  2020-07-08   AMCF  0.000182 -1.697064e-04    0.007200       1   \n",
       "14     14  2020-07-08   ASTI  0.000007  2.083382e-07    0.000200       1   \n",
       "15     15  2020-07-08   CERN  0.021102 -7.600749e-03   69.650002       1   \n",
       "16     16  2020-07-08   GROW  0.041089  2.470889e-02    2.430000       1   \n",
       "17     17  2020-07-08   HNNA  0.014847  2.861580e-02    8.140000       1   \n",
       "18     18  2020-07-08   LWAY  0.031598 -1.786272e-03    2.800000       1   \n",
       "19     19  2020-07-08   MACK  0.013058 -1.176024e-02    3.450000       1   \n",
       "\n",
       "           Day  DailyVariance  Daily_Volatility  Annualized_Volatility  \n",
       "0   1 Days Ago       0.025327          0.159146               2.516315  \n",
       "1   1 Days Ago       0.015387          0.124043               1.961289  \n",
       "2   1 Days Ago       0.000725          0.026923               0.425684  \n",
       "3   1 Days Ago       0.003772          0.061413               0.971026  \n",
       "4   1 Days Ago       0.000273          0.016516               0.261137  \n",
       "5   1 Days Ago       0.002432          0.049319               0.779807  \n",
       "6   1 Days Ago       0.001745          0.041774               0.660502  \n",
       "7   1 Days Ago       0.003048          0.055205               0.872864  \n",
       "8   1 Days Ago       0.002960          0.054407               0.860248  \n",
       "9   1 Days Ago       0.001156          0.033999               0.537567  \n",
       "10  1 Days Ago       0.002178          0.046669               0.737906  \n",
       "11  1 Days Ago       0.006947          0.083350               1.317887  \n",
       "12  2 Days Ago       0.002511          0.050108               0.792269  \n",
       "13  2 Days Ago       0.162045          0.402548               6.364842  \n",
       "14  2 Days Ago       0.168245          0.410177               6.485467  \n",
       "15  2 Days Ago       0.000602          0.024535               0.387937  \n",
       "16  2 Days Ago       0.004476          0.066902               1.057820  \n",
       "17  2 Days Ago       0.001835          0.042835               0.677282  \n",
       "18  2 Days Ago       0.003179          0.056387               0.891557  \n",
       "19  2 Days Ago       0.001732          0.041620               0.658067  "
      ]
     },
     "execution_count": 15,
     "metadata": {},
     "output_type": "execute_result"
    }
   ],
   "source": [
    "pd.DataFrame(fr).head(20)"
   ]
  },
  {
   "cell_type": "code",
   "execution_count": null,
   "metadata": {},
   "outputs": [],
   "source": []
  }
 ],
 "metadata": {
  "kernelspec": {
   "display_name": "Python 3",
   "language": "python",
   "name": "python3"
  },
  "language_info": {
   "codemirror_mode": {
    "name": "ipython",
    "version": 3
   },
   "file_extension": ".py",
   "mimetype": "text/x-python",
   "name": "python",
   "nbconvert_exporter": "python",
   "pygments_lexer": "ipython3",
   "version": "3.7.3"
  }
 },
 "nbformat": 4,
 "nbformat_minor": 2
}
